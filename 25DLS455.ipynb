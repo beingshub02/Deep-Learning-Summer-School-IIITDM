{
  "nbformat": 4,
  "nbformat_minor": 0,
  "metadata": {
    "colab": {
      "provenance": [],
      "authorship_tag": "ABX9TyOpd1KcgM54y1p6gBWAzFCS",
      "include_colab_link": true
    },
    "kernelspec": {
      "name": "python3",
      "display_name": "Python 3"
    },
    "language_info": {
      "name": "python"
    }
  },
  "cells": [
    {
      "cell_type": "markdown",
      "metadata": {
        "id": "view-in-github",
        "colab_type": "text"
      },
      "source": [
        "<a href=\"https://colab.research.google.com/github/beingshub02/Deep-Learning-Summer-School-IIITDM/blob/main/25DLS455.ipynb\" target=\"_parent\"><img src=\"https://colab.research.google.com/assets/colab-badge.svg\" alt=\"Open In Colab\"/></a>"
      ]
    },
    {
      "cell_type": "markdown",
      "source": [
        " P-1: Create a softmax function [2.5 Marks]"
      ],
      "metadata": {
        "id": "defimq2Xi0e-"
      }
    },
    {
      "cell_type": "code",
      "execution_count": null,
      "metadata": {
        "colab": {
          "base_uri": "https://localhost:8080/"
        },
        "id": "kBm00fx3Tfmq",
        "outputId": "52b8f2eb-ea44-42c8-8349-8b8ff52972d3"
      },
      "outputs": [
        {
          "output_type": "stream",
          "name": "stdout",
          "text": [
            "Softmax Output: [0.09003057 0.24472847 0.66524096]\n"
          ]
        }
      ],
      "source": [
        "import numpy as np\n",
        "\n",
        "def softmax(x):\n",
        "    exp_x = np.exp(x - np.max(x))  # for numerical stability\n",
        "    return exp_x / np.sum(exp_x)\n",
        "\n",
        "# Test Case\n",
        "x = np.array([1.0, 2.0, 3.0])\n",
        "print(\"Softmax Output:\", softmax(x))\n"
      ]
    },
    {
      "cell_type": "markdown",
      "source": [
        " P-2: Identify Which Problem is Which? [2.5 Marks]"
      ],
      "metadata": {
        "id": "U4MWKUOnjBq2"
      }
    },
    {
      "cell_type": "code",
      "source": [
        "examples = [\n",
        "    \"Self-driving car using CNNs\",\n",
        "    \"Spam detection using Naive Bayes\",\n",
        "    \"Expert system for medical diagnosis\",\n",
        "    \"Face recognition using Siamese Networks\",\n",
        "    \"Weather forecasting using linear regression\"\n",
        "]\n",
        "\n",
        "for example in examples:\n",
        "    if \"CNNs\" in example or \"Siamese Networks\" in example:\n",
        "        print(f\"{example} => DL (Deep Learning)\")\n",
        "    elif \"Naive Bayes\" in example or \"linear regression\" in example:\n",
        "        print(f\"{example} => ML (Machine Learning)\")\n",
        "    elif \"Expert system\" in example:\n",
        "        print(f\"{example} => AI (Artificial Intelligence)\")\n"
      ],
      "metadata": {
        "colab": {
          "base_uri": "https://localhost:8080/"
        },
        "id": "_FiAtIqpjCDh",
        "outputId": "586948d6-ff87-419f-f56e-03cc620bea43"
      },
      "execution_count": null,
      "outputs": [
        {
          "output_type": "stream",
          "name": "stdout",
          "text": [
            "Self-driving car using CNNs => DL (Deep Learning)\n",
            "Spam detection using Naive Bayes => ML (Machine Learning)\n",
            "Expert system for medical diagnosis => AI (Artificial Intelligence)\n",
            "Face recognition using Siamese Networks => DL (Deep Learning)\n",
            "Weather forecasting using linear regression => ML (Machine Learning)\n"
          ]
        }
      ]
    },
    {
      "cell_type": "markdown",
      "source": [
        "P-3: Intro to colab and Numpy and Pytorch [5 Marks]"
      ],
      "metadata": {
        "id": "UP2uZorLjNDp"
      }
    },
    {
      "cell_type": "code",
      "source": [
        "import torch\n",
        "\n",
        "# Generate a 5x5 random matrix\n",
        "tensor = torch.rand(5, 5)\n",
        "\n",
        "# PyTorch statistics\n",
        "mean_pt = torch.mean(tensor)\n",
        "std_pt = torch.std(tensor)\n",
        "sum_pt = torch.sum(tensor)\n",
        "\n",
        "print(\"PyTorch Tensor:\\n\", tensor)\n",
        "print(\"Mean (PyTorch):\", mean_pt.item())\n",
        "print(\"Std Dev (PyTorch):\", std_pt.item())\n",
        "print(\"Sum (PyTorch):\", sum_pt.item())\n",
        "\n",
        "# Convert to NumPy\n",
        "tensor_np = tensor.numpy()\n",
        "\n",
        "# NumPy statistics\n",
        "mean_np = np.mean(tensor_np)\n",
        "std_np = np.std(tensor_np)\n",
        "sum_np = np.sum(tensor_np)\n",
        "\n",
        "print(\"\\nConverted NumPy Array:\\n\", tensor_np)\n",
        "print(\"Mean (NumPy):\", mean_np)\n",
        "print(\"Std Dev (NumPy):\", std_np)\n",
        "print(\"Sum (NumPy):\", sum_np)\n"
      ],
      "metadata": {
        "colab": {
          "base_uri": "https://localhost:8080/"
        },
        "id": "O1lptAZsjNau",
        "outputId": "027c02cd-1831-4117-db9e-b3078627f549"
      },
      "execution_count": null,
      "outputs": [
        {
          "output_type": "stream",
          "name": "stdout",
          "text": [
            "PyTorch Tensor:\n",
            " tensor([[0.0543, 0.4272, 0.2461, 0.7830, 0.0845],\n",
            "        [0.6275, 0.2532, 0.5723, 0.2936, 0.7817],\n",
            "        [0.0348, 0.8331, 0.3419, 0.3111, 0.9938],\n",
            "        [0.9809, 0.7274, 0.7881, 0.6160, 0.8966],\n",
            "        [0.3222, 0.8398, 0.0841, 0.5271, 0.2348]])\n",
            "Mean (PyTorch): 0.5062121748924255\n",
            "Std Dev (PyTorch): 0.3085147440433502\n",
            "Sum (PyTorch): 12.655304908752441\n",
            "\n",
            "Converted NumPy Array:\n",
            " [[0.05427259 0.42722774 0.24614966 0.78297967 0.084503  ]\n",
            " [0.6275311  0.25315708 0.5722626  0.29360133 0.78173476]\n",
            " [0.03478312 0.83310556 0.3418575  0.31106853 0.9938454 ]\n",
            " [0.9809262  0.7274476  0.788068   0.61601585 0.89661956]\n",
            " [0.32221347 0.8398062  0.08414376 0.5271376  0.23484743]]\n",
            "Mean (NumPy): 0.5062122\n",
            "Std Dev (NumPy): 0.30228153\n",
            "Sum (NumPy): 12.655305\n"
          ]
        }
      ]
    }
  ]
}