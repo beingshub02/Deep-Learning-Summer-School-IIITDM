{
  "nbformat": 4,
  "nbformat_minor": 0,
  "metadata": {
    "colab": {
      "provenance": [],
      "authorship_tag": "ABX9TyMv3p6dFhxIPl0yXUmejsE5",
      "include_colab_link": true
    },
    "kernelspec": {
      "name": "python3",
      "display_name": "Python 3"
    },
    "language_info": {
      "name": "python"
    }
  },
  "cells": [
    {
      "cell_type": "markdown",
      "metadata": {
        "id": "view-in-github",
        "colab_type": "text"
      },
      "source": [
        "<a href=\"https://colab.research.google.com/github/beingshub02/Deep-Learning-Summer-School-IIITDM/blob/main/25DLS455_5.ipynb\" target=\"_parent\"><img src=\"https://colab.research.google.com/assets/colab-badge.svg\" alt=\"Open In Colab\"/></a>"
      ]
    },
    {
      "cell_type": "markdown",
      "source": [
        "Week1-Day5: **Assignment** **bold text**"
      ],
      "metadata": {
        "id": "ZvCyhFBxG7Mv"
      }
    },
    {
      "cell_type": "markdown",
      "source": [
        "✅ Task 1 – TensorFlow (Keras backend)"
      ],
      "metadata": {
        "id": "uYp83y4xHEr2"
      }
    },
    {
      "cell_type": "code",
      "execution_count": 1,
      "metadata": {
        "colab": {
          "base_uri": "https://localhost:8080/"
        },
        "id": "xSmwdipMG0W3",
        "outputId": "3e49a121-0e5e-4787-819c-61e4a45d29a3"
      },
      "outputs": [
        {
          "output_type": "stream",
          "name": "stdout",
          "text": [
            "TensorFlow:\n",
            "z: [[0.17]]\n",
            "y_pred: [[0.542398]]\n",
            "Binary Cross-Entropy Loss: [[0.61175525]]\n"
          ]
        }
      ],
      "source": [
        "import tensorflow as tf\n",
        "\n",
        "# Input\n",
        "X = tf.constant([[0.5, 0.3, 0.2]], dtype=tf.float32)  # shape (1, 3)\n",
        "\n",
        "# Ground truth\n",
        "y_true = tf.constant(1.0, dtype=tf.float32)\n",
        "\n",
        "# Manually initialized weights and bias\n",
        "W = tf.Variable([[0.1], [0.2], [0.3]], dtype=tf.float32)  # shape (3, 1)\n",
        "b = tf.Variable(0.0, dtype=tf.float32)  # scalar bias\n",
        "\n",
        "# Forward pass\n",
        "z = tf.matmul(X, W) + b  # shape (1, 1)\n",
        "y_pred = tf.math.sigmoid(z)  # sigmoid activation\n",
        "\n",
        "# Binary cross-entropy loss\n",
        "loss = -1 * (y_true * tf.math.log(y_pred) + (1 - y_true) * tf.math.log(1 - y_pred))\n",
        "\n",
        "# Output\n",
        "print(\"TensorFlow:\")\n",
        "print(\"z:\", z.numpy())\n",
        "print(\"y_pred:\", y_pred.numpy())\n",
        "print(\"Binary Cross-Entropy Loss:\", loss.numpy())\n"
      ]
    },
    {
      "cell_type": "markdown",
      "source": [
        "✅ Task 2 – PyTorch"
      ],
      "metadata": {
        "id": "BD4GG_c1HWMu"
      }
    },
    {
      "cell_type": "code",
      "source": [
        "import torch\n",
        "\n",
        "# Input\n",
        "X = torch.tensor([[0.5, 0.3, 0.2]], dtype=torch.float32)  # shape (1, 3)\n",
        "y_true = torch.tensor(1.0, dtype=torch.float32)  # ground truth\n",
        "\n",
        "# Manually initialized weights and bias (requires_grad=True to compute gradients)\n",
        "W = torch.tensor([[0.1], [0.2], [0.3]], dtype=torch.float32, requires_grad=True)  # shape (3, 1)\n",
        "b = torch.tensor(0.0, dtype=torch.float32, requires_grad=True)  # scalar bias\n",
        "\n",
        "# Forward pass\n",
        "z = torch.mm(X, W) + b  # shape (1, 1)\n",
        "y_pred = torch.sigmoid(z)  # sigmoid activation\n",
        "\n",
        "# Binary cross-entropy loss\n",
        "loss = -1 * (y_true * torch.log(y_pred) + (1 - y_true) * torch.log(1 - y_pred))\n",
        "\n",
        "# Backward pass\n",
        "loss.backward()\n",
        "\n",
        "# Output\n",
        "print(\"\\nPyTorch:\")\n",
        "print(\"z:\", z.detach().numpy())\n",
        "print(\"y_pred:\", y_pred.detach().numpy())\n",
        "print(\"Binary Cross-Entropy Loss:\", loss.item())\n",
        "print(\"Gradient w.r.t Weights:\\n\", W.grad)\n",
        "print(\"Gradient w.r.t Bias:\\n\", b.grad)\n"
      ],
      "metadata": {
        "colab": {
          "base_uri": "https://localhost:8080/"
        },
        "id": "3tsaKyCFHNGy",
        "outputId": "63a0c09c-c499-49ab-bffd-b5c622f4e661"
      },
      "execution_count": 2,
      "outputs": [
        {
          "output_type": "stream",
          "name": "stdout",
          "text": [
            "\n",
            "PyTorch:\n",
            "z: [[0.17000002]]\n",
            "y_pred: [[0.5423979]]\n",
            "Binary Cross-Entropy Loss: 0.61175537109375\n",
            "Gradient w.r.t Weights:\n",
            " tensor([[-0.2288],\n",
            "        [-0.1373],\n",
            "        [-0.0915]])\n",
            "Gradient w.r.t Bias:\n",
            " tensor(-0.4576)\n"
          ]
        }
      ]
    },
    {
      "cell_type": "code",
      "source": [],
      "metadata": {
        "id": "bF7bXGMOHiMD"
      },
      "execution_count": null,
      "outputs": []
    }
  ]
}